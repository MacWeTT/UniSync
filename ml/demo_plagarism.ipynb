{
 "cells": [
  {
   "cell_type": "code",
   "execution_count": 1,
   "id": "54afb2a1-c271-4f2f-bd34-c966041497ca",
   "metadata": {},
   "outputs": [],
   "source": [
    "from difflib import SequenceMatcher"
   ]
  },
  {
   "cell_type": "code",
   "execution_count": 4,
   "id": "fbbd043e-c902-49dc-b91a-988f2d9ca11e",
   "metadata": {},
   "outputs": [],
   "source": [
    "text1 = \"Fundamental areas of computer science Computer science is the study of computation, information, and automation. Computer science spans theoretical disciplines to applied disciplines.\"\n",
    "text2 = \"Science is a rigorous, systematic endeavor that builds and organizes knowledge in the form of testable explanations and predictions about everything.\""
   ]
  },
  {
   "cell_type": "code",
   "execution_count": 5,
   "id": "08f5d2f4-bd27-4b67-bf10-fea1aa80bf83",
   "metadata": {},
   "outputs": [
    {
     "name": "stdout",
     "output_type": "stream",
     "text": [
      "Similarity % =  26.506024096385545\n"
     ]
    }
   ],
   "source": [
    "similarity = SequenceMatcher(None,text1,text2).ratio()\n",
    "print(\"Similarity % = \", similarity*100)"
   ]
  },
  {
   "cell_type": "code",
   "execution_count": 3,
   "id": "25ea698b-ccd3-430b-a5a0-7c8f4c597a17",
   "metadata": {},
   "outputs": [],
   "source": [
    "def Plagarism_Checker(text1, text2):\n",
    "    similarity = SequenceMatcher(None,text1,text2).ratio()\n",
    "    return similarity*100"
   ]
  },
  {
   "cell_type": "code",
   "execution_count": 4,
   "id": "79782cda-9d5b-4991-b37d-645d71046534",
   "metadata": {},
   "outputs": [
    {
     "ename": "NameError",
     "evalue": "name 'text1' is not defined",
     "output_type": "error",
     "traceback": [
      "\u001b[0;31m---------------------------------------------------------------------------\u001b[0m",
      "\u001b[0;31mNameError\u001b[0m                                 Traceback (most recent call last)",
      "Cell \u001b[0;32mIn[4], line 1\u001b[0m\n\u001b[0;32m----> 1\u001b[0m Plagarism_Checker(\u001b[43mtext1\u001b[49m,text2)\n",
      "\u001b[0;31mNameError\u001b[0m: name 'text1' is not defined"
     ]
    }
   ],
   "source": [
    "Plagarism_Checker(text1,text2)"
   ]
  },
  {
   "cell_type": "code",
   "execution_count": null,
   "id": "7ceaf91b-c511-427c-843d-4b6104a9ba8a",
   "metadata": {},
   "outputs": [],
   "source": []
  }
 ],
 "metadata": {
  "kernelspec": {
   "display_name": "Python 3 (ipykernel)",
   "language": "python",
   "name": "python3"
  },
  "language_info": {
   "codemirror_mode": {
    "name": "ipython",
    "version": 3
   },
   "file_extension": ".py",
   "mimetype": "text/x-python",
   "name": "python",
   "nbconvert_exporter": "python",
   "pygments_lexer": "ipython3",
   "version": "3.11.0"
  }
 },
 "nbformat": 4,
 "nbformat_minor": 5
}
