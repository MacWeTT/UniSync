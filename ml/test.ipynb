{
 "cells": [
  {
   "cell_type": "markdown",
   "id": "6861a284-4436-4bea-9f60-b0484083de6d",
   "metadata": {},
   "source": [
    "**Importing Libraries.**"
   ]
  },
  {
   "cell_type": "code",
   "execution_count": 13,
   "id": "c2ccebd0-e5a0-4abd-b09a-49eafbec7782",
   "metadata": {},
   "outputs": [],
   "source": [
    "import import_ipynb\n",
    "from plagarism_model import plagarism_checker"
   ]
  },
  {
   "cell_type": "markdown",
   "id": "04627259-952f-4a26-b640-ab9ed73d8732",
   "metadata": {},
   "source": [
    "**Creating Sample Text Variables For Testing Purpose.**"
   ]
  },
  {
   "cell_type": "code",
   "execution_count": 14,
   "id": "d1cc33e0-f06d-47eb-9ab5-21e78c732b39",
   "metadata": {},
   "outputs": [],
   "source": [
    "text1 = \"Fundamental areas of computer science Computer science is the study of computation, information, and automation. Computer science spans theoretical disciplines to applied disciplines.\"\n",
    "text2 = \"Science is a rigorous, systematic endeavor that builds and organizes knowledge in the form of testable explanations and predictions about everything.\""
   ]
  },
  {
   "cell_type": "code",
   "execution_count": 15,
   "id": "79c2ed04-de94-4af6-80fb-e88c01c69f6d",
   "metadata": {},
   "outputs": [],
   "source": [
    "# text1 = \"Science is a rigorous, systematic endeavor that builds and organizes knowledge in the form of testable explanations and predictions about everything.\"\n",
    "# text2 = \"Science is a rigorous, systematic endeavor that builds and organizes knowledge in the form of testable explanations and predictions about everything.\""
   ]
  },
  {
   "cell_type": "markdown",
   "id": "3257deb8-b69f-44ca-8157-9cfdfd4b3104",
   "metadata": {},
   "source": [
    "**Testing The Plagarism Checker Function which returns the % of similarity between the two input text.**"
   ]
  },
  {
   "cell_type": "code",
   "execution_count": 16,
   "id": "170abe47-386e-4b8b-8314-ac8fd9c345e1",
   "metadata": {},
   "outputs": [
    {
     "name": "stdout",
     "output_type": "stream",
     "text": [
      "8.688231783532684\n"
     ]
    }
   ],
   "source": [
    "plagarism_checker(text1, text2)"
   ]
  },
  {
   "cell_type": "code",
   "execution_count": null,
   "id": "d839797a-04d9-4f94-8333-11b6619cfdd9",
   "metadata": {},
   "outputs": [],
   "source": []
  }
 ],
 "metadata": {
  "kernelspec": {
   "display_name": "Python 3 (ipykernel)",
   "language": "python",
   "name": "python3"
  },
  "language_info": {
   "codemirror_mode": {
    "name": "ipython",
    "version": 3
   },
   "file_extension": ".py",
   "mimetype": "text/x-python",
   "name": "python",
   "nbconvert_exporter": "python",
   "pygments_lexer": "ipython3",
   "version": "3.11.4"
  }
 },
 "nbformat": 4,
 "nbformat_minor": 5
}
